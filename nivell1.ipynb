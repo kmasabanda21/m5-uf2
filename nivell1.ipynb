{
 "cells": [
  {
   "cell_type": "markdown",
   "id": "d9409ac2-a03e-4f1b-bf13-b4f9b743f14b",
   "metadata": {},
   "source": [
    "# Nivell 1"
   ]
  },
  {
   "cell_type": "markdown",
   "id": "e5eac30b-97d3-4ab3-a5a3-85646f073baa",
   "metadata": {},
   "source": [
    "## Exercici 1 (Vídeos Avaluables)"
   ]
  },
  {
   "cell_type": "markdown",
   "id": "741e0a63-68fb-477e-a19d-e8caaddf7ffe",
   "metadata": {},
   "source": [
    "En aquest exercici has de visionar els següents vídeos i respondre les preguntes que hi trobaràs en cadascun d'ells.\n",
    "\n",
    "Hi ha preguntes en les quals només una resposta és correcte, i altres preguntes en les quals hi ha múltiples respostes correctes."
   ]
  },
  {
   "cell_type": "markdown",
   "id": "d76b3807-f56c-446f-9f42-9c47c3e06a7a",
   "metadata": {},
   "source": [
    "### Vídeo 1: POO - Arquitectura de 3 capes\n",
    "\n",
    "[POO - Arquitectura de 3 capes](https://edpuzzle.com/assignments/61917cc79c0d00417bd6667d/watch)"
   ]
  },
  {
   "cell_type": "markdown",
   "id": "524b4a49-e858-41e9-9b94-28f8b5efb73a",
   "metadata": {},
   "source": [
    "### Vídeo 2: POO - Classes i objectes 1\n",
    "\n",
    "[POO - Classes i objectes 1](https://edpuzzle.com/assignments/61a4c9a63bc37742be500562/watch)"
   ]
  },
  {
   "cell_type": "markdown",
   "id": "04527db6-f5d6-4a7c-991b-55a7bda2ed97",
   "metadata": {},
   "source": [
    "### Vídeo 3: POO - Classes i objectes 2 - Diagrames de classes UML\n",
    "\n",
    "[POO - Classes i objectes 2 - Diagrames de classess UML](https://edpuzzle.com/assignments/61a4d70134eb4e42b2b3b639/watch)"
   ]
  },
  {
   "cell_type": "markdown",
   "id": "d7a8f28e-a922-438b-9faa-e86dd393b35e",
   "metadata": {},
   "source": [
    "### Vídeo 4: POO - Constructors | Depuració\n",
    "\n",
    "[POO - Constructors | Depuració](https://edpuzzle.com/assignments/61a4f271e2c7a94291bd6c1c/watch)"
   ]
  },
  {
   "cell_type": "markdown",
   "id": "ab8ee21b-33d4-4036-8db3-f9359f15ca31",
   "metadata": {},
   "source": [
    "### Vídeo 5: POO - Encapsulació\n",
    "[POO - Encapsulació](https://edpuzzle.com/assignments/61a5f49b61fc6342e0fe91b6/watch)"
   ]
  },
  {
   "cell_type": "markdown",
   "id": "609ca539-a174-4a0f-be33-24070963768b",
   "metadata": {},
   "source": [
    "## Exercici 2"
   ]
  },
  {
   "cell_type": "markdown",
   "id": "53d6ee41-5ba9-4ac6-a4ff-4c044befc748",
   "metadata": {},
   "source": [
    "### Codi font: Característiques\n",
    "Indica **quines** de les següents característiques es poden relacionar amb el codi font:\n",
    "\n",
    "    a) Un programador el pot editar i modificar-ne el comportament de forma senzilla.\n",
    "    b) L'ordinador pot llegir el codi i executar-lo directament.\n",
    "    c) Els programes com processadors de textos o entorns de desenvolupament els poden interpretar i mostrar per pantalla de forma correcta.\n",
    "    d) El codi es troba sempre optimitzat per estalviar memòria i temps d'execució.\n",
    "    e) Existeixen diferents llenguatges de programació per escriure'ls.\n",
    "    f) El codi és sempre el mateix sigui quina sigui la plataforma sobre la qual s'ha d'executar.\n"
   ]
  },
  {
   "cell_type": "markdown",
   "id": "2ddd1c47-2e84-4ab8-a634-337b77954e28",
   "metadata": {},
   "source": [
    "    a) El codigo fuente se puede editar y modificar facilmente porque estamos en la fase inical, en la cual introducimos las lineas de texto para mas tarde el compilador haga la traducción.\n",
    "    b) El ordenador no puede ejecutar el codigo fuente directamente ya que es primordial que se haga una compilación de las ordenes e instrucciones y se traduzca a codigo binario.\n",
    "    c) Si, los entornos de desarrollo es la herramienta de desarrollo de software utilizado para escribir, generar, probar y depurar un programa.\n",
    "    d) La optimización ayuda en el ahorro del tamaño del código, la reducción del tiempo de ejecución y la mejora de las necesidades del espacio para los datos del programa. \n",
    "    f) EL codigo fuente es el mismo pero puede variar minimamente dependiendo en la plataforma en la que se ejecute."
   ]
  },
  {
   "cell_type": "markdown",
   "id": "ed1b2f74-f516-4935-bc2d-a74d3d7c050a",
   "metadata": {},
   "source": [
    "### Codi font: Representació\n",
    "Indica quina de les figures representa millor el codi font:\n",
    "\n",
    "![codi font, codi binari](images/codes_src_bin.png)"
   ]
  },
  {
   "cell_type": "markdown",
   "id": "f1cf5c3c-cd47-4063-b493-a4532f332cd9",
   "metadata": {},
   "source": [
    " La figura A representa el codigo fuente o lenguaje de alto nivel y está diseñado para ser comprensible para los humanos, mientras que la figura B es conocido como lenguaje maquina.  **Justifica la resposta**."
   ]
  },
  {
   "cell_type": "markdown",
   "id": "d2156734-41e9-46dd-9174-ab041b411d9d",
   "metadata": {},
   "source": [
    "### Codi objecte: Característiques\n",
    "\n",
    "Indica **quines** de les següents característiques es poden relacionar amb el codi objecte:\n",
    "\n",
    "    a) Un programador el pot editar i modificar-ne el comportament de forma senzilla.\n",
    "    b) L'ordinador pot llegir el codi i executar-lo directament.\n",
    "    c) Els programes com processadors de textos o entorns de desenvolupament els poden interpretar i mostrar per pantalla de forma correcta.\n",
    "    d) El codi es troba sempre optimitzat per estalviar memòria i temps d'execució.\n",
    "    e) Existeixen diferents llenguatges de programació per escriure'ls.\n",
    "    f) El codi és sempre el mateix sigui quina sigui la plataforma sobre la qual s'ha d'executar."
   ]
  },
  {
   "cell_type": "markdown",
   "id": "157617b7-c8e4-494d-b943-fc11504b48c1",
   "metadata": {},
   "source": [
    " a) Un programador no puede modificar el codigo objecto ya que es incomprensible para el ser humano.\n",
    " b) El hardware del ordenador puede ejecutarlo directamente si se enlazan todos los archivos de código objeto, además que es un lenguaje que entiende el ordenador.\n",
    " c) El codigo objeto es el resultado de la compilación del codigo fuente, es inviable interpretar el codigo objeto en un entorno de desarrollo.\n",
    " e) El codigo objeto solo se entiende como un lenguaje maquina, no existen diferentes lenguajes maquina. \n",
    " f) El codigo objeto es exactamente el mismo a pesar que se realice el codigo fuente en diferentes lenguajes.\n"
   ]
  },
  {
   "cell_type": "markdown",
   "id": "b5363056-c144-4c61-aa52-741faa23847b",
   "metadata": {},
   "source": [
    "### Codi objecte: Representació\n",
    "Indica quina de les figures representa millor el codi objecte:\n",
    "\n",
    "![codi font, codi binari](images/codes_src_bin.png)"
   ]
  },
  {
   "cell_type": "markdown",
   "id": "fd89e185-6855-4501-85e9-66c06b548ffa",
   "metadata": {},
   "source": [
    "La Figura B es la representación del codigo objeto una vez que este se haya compilado a partir del codigo fuente."
   ]
  },
  {
   "cell_type": "markdown",
   "id": "1472c712-d46c-4d55-87cc-95a5f66eb316",
   "metadata": {},
   "source": [
    "### Codi executable: Característiques\n",
    "\n",
    "Indica quines de les següents característiques es poden relacionar amb el codi executable:\n",
    "\n",
    "    a) Un programador el pot editar i modificar-ne el comportament de forma senzilla.\n",
    "    b) L'ordinador pot llegir el codi i executar-lo directament.\n",
    "    c) Els programes com processadors de textos o entorns de desenvolupament els poden interpretar i mostrar per pantalla de forma correcta.\n",
    "    d) El codi es troba sempre optimitzat per estalviar memòria i temps d'execució.\n",
    "    e) Existeixen diferents llenguatges de programació per escriure'ls.\n",
    "    f) El codi és sempre el mateix sigui quina sigui la plataforma sobre la qual s'ha d'executar."
   ]
  },
  {
   "cell_type": "markdown",
   "id": "c5393a3c-08e6-41d4-aa15-72b4036f7b53",
   "metadata": {},
   "source": [
    "// a) El codigo ejecutable, es un programa que está lista para ejecutarse, si se requiere una modificación se tiene que volver a compilar.\n",
    "   b) Exactamente, el ordenador puede ejecutar el codigo ejecutable tantas veces como se desee.\n",
    "   c) Si, se puede interpretar el codigo ejecutable en un entorno de desarrollo aunque es diferente al codigo fuente.\n",
    "   d) El codigo ejecutable se encuentra en su fase mas optima, ya que ha eliminado los errores del codigo fuente.\n",
    "   e) \n",
    "   f) El codigo ejecutable es el mismo a pesar que sea diferentes plataformas."
   ]
  },
  {
   "cell_type": "markdown",
   "id": "6f0a0a4e-7986-4d52-84e8-0f25a81b37b1",
   "metadata": {},
   "source": [
    "### Codi executable: Representació\n",
    "Indica quina de les figures representa millor el codi executable:\n",
    "\n",
    "![codi font, codi binari](images/codes_src_bin.png)"
   ]
  },
  {
   "cell_type": "markdown",
   "id": "d0b81a42-ca01-4696-a9f0-669028317a25",
   "metadata": {},
   "source": [
    "// La Figura A representa el codigo ejecutable y no se debe confundir con el codigo fuente aunque el formato pueda ser el mismo. La diferencia está en que el código ejecutable se encuentra enlazado y apto para ser ejecutado en la computadora."
   ]
  },
  {
   "cell_type": "markdown",
   "id": "ec565f9f-5e3d-4620-93b4-a1ec2e351fac",
   "metadata": {},
   "source": [
    "## Exercici 3"
   ]
  },
  {
   "cell_type": "markdown",
   "id": "93bb9345-e34a-46dc-84ff-cc348db1290f",
   "metadata": {},
   "source": [
    "Preguntes: **cal que justifiquis** les teves respostes, **escrites amb paraules teves** i no copiades d'altres fonts d'informació.\n",
    "\n",
    "    a) Explica amb les teves pròpies paraules, i amb el màxim de precisió possible, quina és la tasca del \"compilador\".\n",
    "    b) Explica amb les teves pròpies paraules, i amb el màxim de precisió possible, quina és la tasca de l'\"enllaçador\".\n",
    "    c) Explica amb les teves pròpies paraules, i amb el màxim de precisió possible, quina diferència hi ha exactament entre el codi objecte i el codi executable."
   ]
  },
  {
   "cell_type": "markdown",
   "id": "c33ac971-436c-4748-b29d-e946846a3786",
   "metadata": {},
   "source": [
    "// a) Un compilador es un programa que traduce el codigo fuente escritos en lenguaje de alto nivel a lenguaje máquina. Es decir, realiza una traduccion del programa completo en una operación llamada compilación."
   ]
  },
  {
   "cell_type": "markdown",
   "id": "003ae205-7ccf-462c-b63c-2d239ad1bcc3",
   "metadata": {},
   "source": [
    "// b) Un enlazador reagrupa los archivos del codigo objeto que se han compilado para que se conviertan en un programa ejecutable."
   ]
  },
  {
   "cell_type": "markdown",
   "id": "ac10a892-0c65-4cb3-8f78-d29e5d217229",
   "metadata": {},
   "source": [
    "// c) La gran diferencia que existe entre el codigo objeto y el codigo ejecutable, es que el codigo ejecutable ya ha sido compilado y depurado. Y se puede ejecutar directamente, tantas veces como se desee. De este modo, el codigo ejecutable no necesita del compilador para su ejecución."
   ]
  },
  {
   "cell_type": "markdown",
   "id": "3936939e-677a-4369-9e88-bb592d06e35c",
   "metadata": {},
   "source": []
  },
  {
   "cell_type": "markdown",
   "id": "16813e29-10b8-45f1-84cd-84ab8da52898",
   "metadata": {},
   "source": [
    "***\n",
    "# Instruccions del Nivell 1 per al lliurament\n",
    "\n",
    "## (A fer abans de fer el lliurament o de abans de passar al següent nivell)"
   ]
  },
  {
   "cell_type": "markdown",
   "id": "f5d5f367-a69e-4f52-bba6-16c61f822f76",
   "metadata": {},
   "source": [
    "**Abans de continuar al següent nivell o si vols fer el lliurament**: Fes un git add i un git commit de la branca _main_, amb el següent missatge: **Nom Cognom: nivell 1 acabat**.\n",
    "\n"
   ]
  },
  {
   "cell_type": "code",
   "execution_count": 1,
   "id": "01aa585d-fb34-4556-9300-ed33e7cfdeee",
   "metadata": {},
   "outputs": [
    {
     "ename": "CompilationException",
     "evalue": "",
     "output_type": "error",
     "traceback": [
      "\u001b[1m\u001b[30m|   \u001b[1m\u001b[30mgit add; \u001b[0m",
      "\u001b[1m\u001b[31mUnresolved dependencies:\u001b[0m",
      "\u001b[1m\u001b[31m   - class git\u001b[0m"
     ]
    }
   ],
   "source": []
  }
 ],
 "metadata": {
  "kernelspec": {
   "display_name": "Java 11",
   "language": "java",
   "name": "java"
  },
  "language_info": {
   "codemirror_mode": "java",
   "file_extension": ".jshell",
   "mimetype": "text/x-java-source",
   "name": "Java",
   "pygments_lexer": "java",
   "version": "11.0.11+9-Ubuntu-0ubuntu2.20.04"
  }
 },
 "nbformat": 4,
 "nbformat_minor": 5
}
