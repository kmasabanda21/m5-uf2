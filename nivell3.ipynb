{
 "cells": [
  {
   "cell_type": "markdown",
   "id": "d9409ac2-a03e-4f1b-bf13-b4f9b743f14b",
   "metadata": {},
   "source": [
    "# Nivell 3  (lambdes i streams)"
   ]
  },
  {
   "cell_type": "markdown",
   "id": "d9e14099-25b1-4bc3-92a1-fb1d4e4fadf1",
   "metadata": {},
   "source": [
    "_NOTA_: has de fer tot el nivell 3 al notebook."
   ]
  },
  {
   "cell_type": "markdown",
   "id": "e1018b4c-589f-4337-8bf1-305159eceac8",
   "metadata": {},
   "source": [
    "## Exercici 1"
   ]
  },
  {
   "cell_type": "markdown",
   "id": "8ff3ca46-2d84-4dea-8601-391bbf75dd46",
   "metadata": {},
   "source": [
    "### Fase 0 (preparació)"
   ]
  },
  {
   "cell_type": "markdown",
   "id": "17b9b2f1-0b7a-4259-b1a4-e48812d80a0f",
   "metadata": {},
   "source": [
    "Has de respondre cada petit exercici aquí al notebook, en cel·les de codi.\n",
    "\n",
    "Quan et demanin treballar amb una llista de noms, pots obtenir-la directament del fitxer _names.txt_ amb el següent snippet:"
   ]
  },
  {
   "cell_type": "code",
   "execution_count": 1,
   "id": "f439d299-e440-49d3-85b8-8d9ad0272254",
   "metadata": {},
   "outputs": [],
   "source": [
    "import java.nio.file.Files;\n",
    "import java.nio.file.Path;\n",
    "import java.util.stream.Collectors;\n",
    "\n",
    "String filename = \"names.txt\";\n",
    "List<String> names = (Files.lines(Path.of(filename))).collect(Collectors.toList());"
   ]
  },
  {
   "cell_type": "markdown",
   "id": "432236b2-f9b7-4e97-8b1d-54b7aa60a576",
   "metadata": {},
   "source": [
    "### Fase 1"
   ]
  },
  {
   "cell_type": "markdown",
   "id": "82355710-551f-41e2-bff8-103890907275",
   "metadata": {},
   "source": [
    "1. Tenint una llista de cadenes de noms propis,  escriu un mètode que retorni una llista de totes les cadenes que  comencen amb la lletra 'a' (majúscula) i que tinguin exactament 3 lletres. Imprimeix el resultat. //Resposta aquí"
   ]
  },
  {
   "cell_type": "code",
   "execution_count": 2,
   "id": "c5d695ac-2890-46d5-8d8f-4b0748fa6f3b",
   "metadata": {},
   "outputs": [],
   "source": [
    "//Resposta aquí"
   ]
  },
  {
   "cell_type": "markdown",
   "id": "b263ad2b-d98b-41e9-ac34-f3910bbe4d7a",
   "metadata": {},
   "source": [
    "2. Escriu un mètode que retorni una cadena separada per comes basada en una llista d’Integers. Cada element hauria d'anar precedit per la lletra  \"e\" si el nombre és parell, i precedit de la lletra  \"o\" si el nombre és imparell. Per exemple, si la llista  d'entrada és (3,44), la  sortida hauria de ser \"o3, e44\".  Imprimeix el  resultat. "
   ]
  },
  {
   "cell_type": "code",
   "execution_count": 3,
   "id": "ea51d402-ea60-4a3a-80ff-ff41f650782d",
   "metadata": {},
   "outputs": [],
   "source": [
    "//Resposta aquí"
   ]
  },
  {
   "cell_type": "markdown",
   "id": "249b3592-a2ee-4bef-ab90-62011495c850",
   "metadata": {},
   "source": [
    "3. Tenint una llista de Strings, escriu un mètode  que retorni una llista de totes les  cadenes  que continguin la lletra ‘o’ i  imprimeix el resultat."
   ]
  },
  {
   "cell_type": "code",
   "execution_count": 4,
   "id": "6f75a3a1-02fd-47ae-bdcd-2169b4e4a882",
   "metadata": {},
   "outputs": [],
   "source": [
    "//Resposta aquí"
   ]
  },
  {
   "cell_type": "markdown",
   "id": "eea2ed1c-04bc-47ca-baa8-57e7d6f150d1",
   "metadata": {},
   "source": [
    "4. Has de fer el mateix que en el punt anterior,  però retornant una llista que inclogui els elements amb  més de 5 lletres. Imprimeix  el  resultat. "
   ]
  },
  {
   "cell_type": "code",
   "execution_count": 5,
   "id": "0cd12303-d6eb-498a-9a4b-28b84679e096",
   "metadata": {},
   "outputs": [],
   "source": [
    "//Resposta aquí"
   ]
  },
  {
   "cell_type": "markdown",
   "id": "550b5513-bce7-4aa1-8676-e51af43752f0",
   "metadata": {},
   "source": [
    "### Fase 2"
   ]
  },
  {
   "cell_type": "markdown",
   "id": "964796ec-99fc-4174-835f-653f96794a8f",
   "metadata": {},
   "source": [
    "Crea una _Functional Interface_ que contingui  un mètode abstracte ```getPiValue()```, que retorni un valor double; en una  altra classe, instancia la  interfície i assigneu-li  mitjançant una lambda el valor 3.1415. Invoca  el  mètode _getPiValue_ de la  instància de la interfície i imprimeix el resultat. "
   ]
  },
  {
   "cell_type": "code",
   "execution_count": 7,
   "id": "59163aec-98fb-4377-a985-ad540ecb0c22",
   "metadata": {},
   "outputs": [],
   "source": [
    "//Resposta aquí"
   ]
  },
  {
   "cell_type": "markdown",
   "id": "6329f77b-4265-4f2e-a2c4-20bf2feaaade",
   "metadata": {},
   "source": [
    "### Fase 3"
   ]
  },
  {
   "cell_type": "markdown",
   "id": "a295a479-2649-4051-ad4a-0dac8ce75eec",
   "metadata": {},
   "source": [
    "Crea  una _Functional Interface_ que contingui a un mètode abstracte ```reverse()```, que retorni un valor String; en una  altra classe,  injecta el cos del  mètode, a la interfície creada, mitjançant una lambda, de manera que retorni la  mateixa cadena que rep  com a paràmetre  però a l'inrevés. Invoca la instància de la  interfície passant-li una cadena i comprova el resultat. "
   ]
  },
  {
   "cell_type": "code",
   "execution_count": 8,
   "id": "d98f1f6f-5deb-4545-8ce8-aa594ca2bf77",
   "metadata": {},
   "outputs": [],
   "source": [
    "//Resposta aquí"
   ]
  },
  {
   "cell_type": "markdown",
   "id": "e5eac30b-97d3-4ab3-a5a3-85646f073baa",
   "metadata": {},
   "source": [
    "## Exercici 2"
   ]
  },
  {
   "cell_type": "markdown",
   "id": "3436098a-a41a-4a86-8be0-d40de49cac59",
   "metadata": {},
   "source": [
    "Crea una clase Alumne que tingui com a  propietats: Nom, edat, curs i nota."
   ]
  },
  {
   "cell_type": "code",
   "execution_count": 10,
   "id": "c8c90100-614f-43c4-bd1c-31b2a23c14de",
   "metadata": {},
   "outputs": [],
   "source": [
    "class Alumne {\n",
    "\n",
    "    //TODO\n",
    "\n",
    "}"
   ]
  },
  {
   "cell_type": "markdown",
   "id": "a4be7b4e-a8bf-4470-a4da-88b8cb050d25",
   "metadata": {},
   "source": [
    "A continuació tens una llista amb 10 alumnes, que podràs utilitzar per a respondre les preguntes:"
   ]
  },
  {
   "cell_type": "markdown",
   "id": "36e6b3e3-c376-42b1-99cc-3a0f59fd0ade",
   "metadata": {},
   "source": [
    "\n",
    "```java\n",
    "\t\t\tAlumne[] alumnes = new Alumne[] {\n",
    "\t\t\t\t\tnew Alumne(\"Laura\", 23, \"JAVA\", 8),\n",
    "\t\t\t\t\tnew Alumne(\"Jordi\", 33, \"SCALA\", 4),\n",
    "\t\t\t\t\tnew Alumne(\"Anna\", 17, \"JAVA\", 7),\n",
    "\t\t\t\t\tnew Alumne(\"Josep\", 34, \"PYTHON\", 5),\n",
    "\t\t\t\t\tnew Alumne(\"Aina\", 29, \"SCALA\", 6),\n",
    "\t\t\t\t\tnew Alumne(\"Oriol\", 41, \"JAVA\", 10),\n",
    "\t\t\t\t\tnew Alumne(\"Julia\", 38, \"PYTHON\", 7),\n",
    "\t\t\t\t\tnew Alumne(\"Carles\", 26, \"JAVA\", 3),\n",
    "\t\t\t\t\tnew Alumne(\"Maria\", 19, \"PYTHON\", 9),\n",
    "\t\t\t\t\tnew Alumne(\"Albert\", 32, \"JAVA\", 5)\n",
    "\t\t\t};\n",
    "List<Alumne> llista = new ArrayList<>(Arrays.asList(alumnes));\n",
    "```"
   ]
  },
  {
   "cell_type": "markdown",
   "id": "780efc90-a571-41b6-a11a-c1d4b749fdb7",
   "metadata": {},
   "source": [
    "***\n",
    "**Fent servir lambdes i streams, fes:**"
   ]
  },
  {
   "cell_type": "markdown",
   "id": "cbb6a49d-ba6e-4073-ae84-6ca6ff216390",
   "metadata": {},
   "source": [
    "1. Mostra per pantalla el nom i l’edat de cada alumne."
   ]
  },
  {
   "cell_type": "code",
   "execution_count": 20,
   "id": "ce168e7f-bb10-4815-8bf9-9e04cae1ec10",
   "metadata": {},
   "outputs": [],
   "source": [
    "//TODO Resposta aquí"
   ]
  },
  {
   "cell_type": "markdown",
   "id": "ef88adc0-9eed-4d03-a429-843d3995bcd1",
   "metadata": {},
   "source": [
    "2. Filtra la llista per tots els alumnes que el nom comenci per “a”. Assigna el resultat a un altre  llista i mostra per pantalla la nova llista (tot amb lambdes)."
   ]
  },
  {
   "cell_type": "code",
   "execution_count": 19,
   "id": "f8166ef0-c530-4bc2-91a4-9f1e307b11e1",
   "metadata": {},
   "outputs": [],
   "source": [
    "//TODO Resposta aquí"
   ]
  },
  {
   "cell_type": "markdown",
   "id": "ade2c862-f06c-4637-bf0a-98b58308f017",
   "metadata": {},
   "source": [
    "3. Filtra i mostra per pantalla els alumnes que tinguin una qualificació mínima de 5."
   ]
  },
  {
   "cell_type": "code",
   "execution_count": 18,
   "id": "b7e4a765-33f4-4e3f-afba-52a5de768cfb",
   "metadata": {},
   "outputs": [],
   "source": [
    "//TODO Resposta aquí"
   ]
  },
  {
   "cell_type": "markdown",
   "id": "5f303495-a9f0-4b62-b513-fa8eeda0fda3",
   "metadata": {},
   "source": [
    "4. Filtra i mostra per pantalla els alumnes que tinguin una qualificació mínima de 5 i que no hagin cursat SCALA.  "
   ]
  },
  {
   "cell_type": "code",
   "execution_count": 15,
   "id": "de25813f-4e44-473b-9dc8-a81333e85337",
   "metadata": {},
   "outputs": [],
   "source": [
    "//TODO Resposta aquí"
   ]
  },
  {
   "cell_type": "markdown",
   "id": "99b3765a-8985-437a-950f-b7c103fe6db0",
   "metadata": {},
   "source": [
    "5. Mostra tots els alumnes que fan el curs de  JAVA i siguin majors d’edat. "
   ]
  },
  {
   "cell_type": "code",
   "execution_count": 16,
   "id": "a05bc3bc-5096-4dd3-8c82-9806242e0045",
   "metadata": {},
   "outputs": [],
   "source": [
    "//TODO Resposta aquí"
   ]
  },
  {
   "cell_type": "markdown",
   "id": "16813e29-10b8-45f1-84cd-84ab8da52898",
   "metadata": {},
   "source": [
    "***\n",
    "# Instruccions del Nivell 3 per al lliurament"
   ]
  },
  {
   "cell_type": "markdown",
   "id": "f5d5f367-a69e-4f52-bba6-16c61f822f76",
   "metadata": {},
   "source": [
    "**Lliurament**: Fes un git add i un git commit de la branca _main_ del repositori d'inici, amb el següent missatge: **Nom Cognom: nivell 3 acabat**."
   ]
  },
  {
   "cell_type": "code",
   "execution_count": null,
   "id": "a74aa397-c4ac-4262-a3bd-21fb0ee680d8",
   "metadata": {},
   "outputs": [],
   "source": []
  }
 ],
 "metadata": {
  "kernelspec": {
   "display_name": "Java 11",
   "language": "java",
   "name": "java"
  },
  "language_info": {
   "codemirror_mode": "java",
   "file_extension": ".jshell",
   "mimetype": "text/x-java-source",
   "name": "Java",
   "pygments_lexer": "java",
   "version": "11.0.11+9-Ubuntu-0ubuntu2.20.04"
  },
  "nbTranslate": {
   "displayLangs": [
    "*"
   ],
   "hotkey": "alt-t",
   "langInMainMenu": true,
   "sourceLang": "en",
   "targetLang": "ca",
   "useGoogleTranslate": true
  },
  "toc": {
   "base_numbering": 1,
   "nav_menu": {},
   "number_sections": true,
   "sideBar": true,
   "skip_h1_title": false,
   "title_cell": "Table of Contents",
   "title_sidebar": "Contents",
   "toc_cell": false,
   "toc_position": {},
   "toc_section_display": true,
   "toc_window_display": false
  },
  "varInspector": {
   "cols": {
    "lenName": 16,
    "lenType": 16,
    "lenVar": 40
   },
   "kernels_config": {
    "python": {
     "delete_cmd_postfix": "",
     "delete_cmd_prefix": "del ",
     "library": "var_list.py",
     "varRefreshCmd": "print(var_dic_list())"
    },
    "r": {
     "delete_cmd_postfix": ") ",
     "delete_cmd_prefix": "rm(",
     "library": "var_list.r",
     "varRefreshCmd": "cat(var_dic_list()) "
    }
   },
   "types_to_exclude": [
    "module",
    "function",
    "builtin_function_or_method",
    "instance",
    "_Feature"
   ],
   "window_display": false
  }
 },
 "nbformat": 4,
 "nbformat_minor": 5
}
